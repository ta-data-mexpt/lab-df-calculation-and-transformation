{
 "cells": [
  {
   "cell_type": "markdown",
   "metadata": {},
   "source": [
    "# Challenge 3\n",
    "\n",
    "In this challenge we will work on the `Orders.csv` data set in the previous [Subsetting and Descriptive Stats lab](../../lab-subsetting-and-descriptive-stats/your-code/main.ipynb). In your work you will apply the thinking process and workflow we showed you in Challenge 2.\n",
    "\n",
    "You are serving as a Business Intelligence Analyst at the headquarter of an international fashion goods chain store. Your boss today asked you to do two things for her:\n",
    "\n",
    "**First, identify two groups of customers from the data set.** The first group is **VIP Customers** whose **aggregated expenses** at your global chain stores are **above the 95th percentile** (aka. 0.95 quantile). The second group is **Preferred Customers** whose **aggregated expenses** are **between the 75th and 95th percentile**.\n",
    "\n",
    "**Second, identify which country has the most of your VIP customers, and which country has the most of your VIP+Preferred Customers combined.**"
   ]
  },
  {
   "cell_type": "markdown",
   "metadata": {},
   "source": [
    "# Q1: How to identify VIP & Preferred Customers?\n",
    "\n",
    "We start by importing all the required libraries:"
   ]
  },
  {
   "cell_type": "code",
   "execution_count": 1,
   "metadata": {},
   "outputs": [],
   "source": [
    "# import required libraries\n",
    "import numpy as np\n",
    "import pandas as pd"
   ]
  },
  {
   "cell_type": "markdown",
   "metadata": {},
   "source": [
    "Next, import `Orders.csv` from the \"subsetting\" lab folder into a dataframe variable called `orders`. Print the head of `orders` to overview the data:"
   ]
  },
  {
   "cell_type": "code",
   "execution_count": 2,
   "metadata": {},
   "outputs": [
    {
     "output_type": "execute_result",
     "data": {
      "text/plain": "   Unnamed: 0  InvoiceNo StockCode  year  month  day  hour  \\\n0           0     536365    85123A  2010     12    3     8   \n1           1     536365     71053  2010     12    3     8   \n2           2     536365    84406B  2010     12    3     8   \n3           3     536365    84029G  2010     12    3     8   \n4           4     536365    84029E  2010     12    3     8   \n\n                           Description  Quantity          InvoiceDate  \\\n0   white hanging heart t-light holder         6  2010-12-01 08:26:00   \n1                  white metal lantern         6  2010-12-01 08:26:00   \n2       cream cupid hearts coat hanger         8  2010-12-01 08:26:00   \n3  knitted union flag hot water bottle         6  2010-12-01 08:26:00   \n4       red woolly hottie white heart.         6  2010-12-01 08:26:00   \n\n   UnitPrice  CustomerID         Country  amount_spent  \n0       2.55       17850  United Kingdom         15.30  \n1       3.39       17850  United Kingdom         20.34  \n2       2.75       17850  United Kingdom         22.00  \n3       3.39       17850  United Kingdom         20.34  \n4       3.39       17850  United Kingdom         20.34  ",
      "text/html": "<div>\n<style scoped>\n    .dataframe tbody tr th:only-of-type {\n        vertical-align: middle;\n    }\n\n    .dataframe tbody tr th {\n        vertical-align: top;\n    }\n\n    .dataframe thead th {\n        text-align: right;\n    }\n</style>\n<table border=\"1\" class=\"dataframe\">\n  <thead>\n    <tr style=\"text-align: right;\">\n      <th></th>\n      <th>Unnamed: 0</th>\n      <th>InvoiceNo</th>\n      <th>StockCode</th>\n      <th>year</th>\n      <th>month</th>\n      <th>day</th>\n      <th>hour</th>\n      <th>Description</th>\n      <th>Quantity</th>\n      <th>InvoiceDate</th>\n      <th>UnitPrice</th>\n      <th>CustomerID</th>\n      <th>Country</th>\n      <th>amount_spent</th>\n    </tr>\n  </thead>\n  <tbody>\n    <tr>\n      <th>0</th>\n      <td>0</td>\n      <td>536365</td>\n      <td>85123A</td>\n      <td>2010</td>\n      <td>12</td>\n      <td>3</td>\n      <td>8</td>\n      <td>white hanging heart t-light holder</td>\n      <td>6</td>\n      <td>2010-12-01 08:26:00</td>\n      <td>2.55</td>\n      <td>17850</td>\n      <td>United Kingdom</td>\n      <td>15.30</td>\n    </tr>\n    <tr>\n      <th>1</th>\n      <td>1</td>\n      <td>536365</td>\n      <td>71053</td>\n      <td>2010</td>\n      <td>12</td>\n      <td>3</td>\n      <td>8</td>\n      <td>white metal lantern</td>\n      <td>6</td>\n      <td>2010-12-01 08:26:00</td>\n      <td>3.39</td>\n      <td>17850</td>\n      <td>United Kingdom</td>\n      <td>20.34</td>\n    </tr>\n    <tr>\n      <th>2</th>\n      <td>2</td>\n      <td>536365</td>\n      <td>84406B</td>\n      <td>2010</td>\n      <td>12</td>\n      <td>3</td>\n      <td>8</td>\n      <td>cream cupid hearts coat hanger</td>\n      <td>8</td>\n      <td>2010-12-01 08:26:00</td>\n      <td>2.75</td>\n      <td>17850</td>\n      <td>United Kingdom</td>\n      <td>22.00</td>\n    </tr>\n    <tr>\n      <th>3</th>\n      <td>3</td>\n      <td>536365</td>\n      <td>84029G</td>\n      <td>2010</td>\n      <td>12</td>\n      <td>3</td>\n      <td>8</td>\n      <td>knitted union flag hot water bottle</td>\n      <td>6</td>\n      <td>2010-12-01 08:26:00</td>\n      <td>3.39</td>\n      <td>17850</td>\n      <td>United Kingdom</td>\n      <td>20.34</td>\n    </tr>\n    <tr>\n      <th>4</th>\n      <td>4</td>\n      <td>536365</td>\n      <td>84029E</td>\n      <td>2010</td>\n      <td>12</td>\n      <td>3</td>\n      <td>8</td>\n      <td>red woolly hottie white heart.</td>\n      <td>6</td>\n      <td>2010-12-01 08:26:00</td>\n      <td>3.39</td>\n      <td>17850</td>\n      <td>United Kingdom</td>\n      <td>20.34</td>\n    </tr>\n  </tbody>\n</table>\n</div>"
     },
     "metadata": {},
     "execution_count": 2
    }
   ],
   "source": [
    "# enter your code here\n",
    "orders = pd.read_csv(\"../../lab-subsetting-and-descriptive-stats/your-code/Orders.csv\")\n",
    "orders.head()"
   ]
  },
  {
   "cell_type": "markdown",
   "metadata": {},
   "source": [
    "---\n",
    "\n",
    "\"Identify VIP and Preferred Customers\" is the non-technical goal of your boss. You need to translate that goal into technical languages that data analysts use:\n",
    "\n",
    "## How to label customers whose aggregated `amount_spent` is in a given quantile range?\n"
   ]
  },
  {
   "cell_type": "markdown",
   "metadata": {},
   "source": [
    "We break down the main problem into several sub problems:\n",
    "\n",
    "#### Sub Problem 1: How to aggregate the  `amount_spent` for unique customers?\n",
    "\n",
    "#### Sub Problem 2: How to select customers whose aggregated `amount_spent` is in a given quantile range?\n",
    "\n",
    "#### Sub Problem 3: How to label selected customers as \"VIP\" or \"Preferred\"?\n",
    "\n",
    "*Note: If you want to break down the main problem in a different way, please feel free to revise the sub problems above.*\n",
    "\n",
    "Now in the workspace below, tackle each of the sub problems using the iterative problem solving workflow. Insert cells as necessary to write your codes and explain your steps."
   ]
  },
  {
   "cell_type": "code",
   "execution_count": 28,
   "metadata": {},
   "outputs": [
    {
     "output_type": "execute_result",
     "data": {
      "text/plain": "CustomerID\n14646    280206.02\n18102    259657.30\n17450    194550.79\n16446    168472.50\n14911    143825.06\n           ...    \n17956        12.75\n16454         6.90\n14792         6.20\n16738         3.75\n13256         0.00\nName: amount_spent, Length: 4339, dtype: float64"
     },
     "metadata": {},
     "execution_count": 28
    }
   ],
   "source": [
    "#Problem 1. First let's see how many different Customer IDs are in the Data Frame. \n",
    "customers = orders.groupby(['CustomerID'])['amount_spent'].sum().sort_values(ascending = False)\n",
    "customers"
   ]
  },
  {
   "cell_type": "code",
   "execution_count": 49,
   "metadata": {},
   "outputs": [
    {
     "output_type": "stream",
     "name": "stdout",
     "text": "<class 'pandas.core.frame.DataFrame'>\nRangeIndex: 397924 entries, 0 to 397923\nData columns (total 14 columns):\n #   Column        Non-Null Count   Dtype  \n---  ------        --------------   -----  \n 0   Unnamed: 0    397924 non-null  int64  \n 1   InvoiceNo     397924 non-null  int64  \n 2   StockCode     397924 non-null  object \n 3   year          397924 non-null  int64  \n 4   month         397924 non-null  int64  \n 5   day           397924 non-null  int64  \n 6   hour          397924 non-null  int64  \n 7   Description   397924 non-null  object \n 8   Quantity      397924 non-null  int64  \n 9   InvoiceDate   397924 non-null  object \n 10  UnitPrice     397924 non-null  float64\n 11  CustomerID    397924 non-null  int64  \n 12  Country       397924 non-null  object \n 13  amount_spent  397924 non-null  float64\ndtypes: float64(2), int64(8), object(4)\nmemory usage: 42.5+ MB\n"
    }
   ],
   "source": [
    "#Problem 2. Every customer who spents more than $5,840.18 is a VIP, and customers who spend between $1,661.64 and $5,840.18 are Preferred ones. \n",
    "quant_vip = customers.quantile(0.95)\n",
    "quant_pref = customers.quantile(0.75)\n",
    "\n",
    "orders.info()"
   ]
  },
  {
   "cell_type": "code",
   "execution_count": 67,
   "metadata": {},
   "outputs": [],
   "source": [
    "#Problem 3. Now let's put a column to categorize them. \n",
    "orders['Type ID'] = np.where(orders.amount_spent >= quant_vip, 'VIP Customer', np.where((orders['amount_spent'] >= quant_pref) & (orders['amount_spent'] < quant_vip), 'Preferred Customer', 'Regular Customer'))"
   ]
  },
  {
   "cell_type": "code",
   "execution_count": 70,
   "metadata": {},
   "outputs": [],
   "source": [
    "vip = orders[(orders['Type ID'] == 'VIP Customer')]\n",
    "preferred = orders[(orders['Type ID'] == 'Preferred Customer')]\n",
    "regular = orders[(orders['Type ID'] == 'Regular Customer')]"
   ]
  },
  {
   "cell_type": "code",
   "execution_count": 74,
   "metadata": {},
   "outputs": [
    {
     "output_type": "stream",
     "name": "stdout",
     "text": "There are 7 VIP clients, 125 Preferred clients, and 397792 Regular clients.\n"
    }
   ],
   "source": [
    "print('There are {} VIP clients, {} Preferred clients, and {} Regular clients.'.format(len(vip), len(preferred), len(regular)))"
   ]
  },
  {
   "cell_type": "code",
   "execution_count": 7,
   "metadata": {},
   "outputs": [
    {
     "output_type": "execute_result",
     "data": {
      "text/plain": "0.95    5840.182\nName: amount_spent, dtype: float64"
     },
     "metadata": {},
     "execution_count": 7
    }
   ],
   "source": [
    "#Problem 2. Let's check who's VIP.\n",
    "customers.quantile(0.95)"
   ]
  },
  {
   "cell_type": "code",
   "execution_count": 77,
   "metadata": {},
   "outputs": [
    {
     "output_type": "execute_result",
     "data": {
      "text/plain": "Type ID               Preferred Customer  Regular Customer  VIP Customer\nCountry                                                                 \nAustralia                              1              1184             0\nAustria                                0               398             0\nBahrain                                0                17             0\nBelgium                                0              2031             0\nBrazil                                 0                32             0\nCanada                                 0               151             0\nChannel Islands                        0               748             0\nCyprus                                 0               614             0\nCzech Republic                         0                25             0\nDenmark                                0               380             0\nEIRE                                   4              7234             0\nEuropean Community                     0                60             0\nFinland                                0               685             0\nFrance                                 2              8340             0\nGermany                                0              9042             0\nGreece                                 0               145             0\nIceland                                0               182             0\nIsrael                                 0               248             0\nItaly                                  0               758             0\nJapan                                  3               318             0\nLebanon                                0                45             0\nLithuania                              0                35             0\nMalta                                  0               112             0\nNetherlands                            2              2361             0\nNorway                                 0              1072             0\nPoland                                 0               330             0\nPortugal                               0              1462             0\nRSA                                    0                58             0\nSaudi Arabia                           0                 9             0\nSingapore                              4               218             0\nSpain                                  0              2485             0\nSweden                                 0               451             0\nSwitzerland                            0              1842             0\nUSA                                    0               179             0\nUnited Arab Emirates                   0                68             0\nUnited Kingdom                       109            354229             7\nUnspecified                            0               244             0",
      "text/html": "<div>\n<style scoped>\n    .dataframe tbody tr th:only-of-type {\n        vertical-align: middle;\n    }\n\n    .dataframe tbody tr th {\n        vertical-align: top;\n    }\n\n    .dataframe thead th {\n        text-align: right;\n    }\n</style>\n<table border=\"1\" class=\"dataframe\">\n  <thead>\n    <tr style=\"text-align: right;\">\n      <th>Type ID</th>\n      <th>Preferred Customer</th>\n      <th>Regular Customer</th>\n      <th>VIP Customer</th>\n    </tr>\n    <tr>\n      <th>Country</th>\n      <th></th>\n      <th></th>\n      <th></th>\n    </tr>\n  </thead>\n  <tbody>\n    <tr>\n      <th>Australia</th>\n      <td>1</td>\n      <td>1184</td>\n      <td>0</td>\n    </tr>\n    <tr>\n      <th>Austria</th>\n      <td>0</td>\n      <td>398</td>\n      <td>0</td>\n    </tr>\n    <tr>\n      <th>Bahrain</th>\n      <td>0</td>\n      <td>17</td>\n      <td>0</td>\n    </tr>\n    <tr>\n      <th>Belgium</th>\n      <td>0</td>\n      <td>2031</td>\n      <td>0</td>\n    </tr>\n    <tr>\n      <th>Brazil</th>\n      <td>0</td>\n      <td>32</td>\n      <td>0</td>\n    </tr>\n    <tr>\n      <th>Canada</th>\n      <td>0</td>\n      <td>151</td>\n      <td>0</td>\n    </tr>\n    <tr>\n      <th>Channel Islands</th>\n      <td>0</td>\n      <td>748</td>\n      <td>0</td>\n    </tr>\n    <tr>\n      <th>Cyprus</th>\n      <td>0</td>\n      <td>614</td>\n      <td>0</td>\n    </tr>\n    <tr>\n      <th>Czech Republic</th>\n      <td>0</td>\n      <td>25</td>\n      <td>0</td>\n    </tr>\n    <tr>\n      <th>Denmark</th>\n      <td>0</td>\n      <td>380</td>\n      <td>0</td>\n    </tr>\n    <tr>\n      <th>EIRE</th>\n      <td>4</td>\n      <td>7234</td>\n      <td>0</td>\n    </tr>\n    <tr>\n      <th>European Community</th>\n      <td>0</td>\n      <td>60</td>\n      <td>0</td>\n    </tr>\n    <tr>\n      <th>Finland</th>\n      <td>0</td>\n      <td>685</td>\n      <td>0</td>\n    </tr>\n    <tr>\n      <th>France</th>\n      <td>2</td>\n      <td>8340</td>\n      <td>0</td>\n    </tr>\n    <tr>\n      <th>Germany</th>\n      <td>0</td>\n      <td>9042</td>\n      <td>0</td>\n    </tr>\n    <tr>\n      <th>Greece</th>\n      <td>0</td>\n      <td>145</td>\n      <td>0</td>\n    </tr>\n    <tr>\n      <th>Iceland</th>\n      <td>0</td>\n      <td>182</td>\n      <td>0</td>\n    </tr>\n    <tr>\n      <th>Israel</th>\n      <td>0</td>\n      <td>248</td>\n      <td>0</td>\n    </tr>\n    <tr>\n      <th>Italy</th>\n      <td>0</td>\n      <td>758</td>\n      <td>0</td>\n    </tr>\n    <tr>\n      <th>Japan</th>\n      <td>3</td>\n      <td>318</td>\n      <td>0</td>\n    </tr>\n    <tr>\n      <th>Lebanon</th>\n      <td>0</td>\n      <td>45</td>\n      <td>0</td>\n    </tr>\n    <tr>\n      <th>Lithuania</th>\n      <td>0</td>\n      <td>35</td>\n      <td>0</td>\n    </tr>\n    <tr>\n      <th>Malta</th>\n      <td>0</td>\n      <td>112</td>\n      <td>0</td>\n    </tr>\n    <tr>\n      <th>Netherlands</th>\n      <td>2</td>\n      <td>2361</td>\n      <td>0</td>\n    </tr>\n    <tr>\n      <th>Norway</th>\n      <td>0</td>\n      <td>1072</td>\n      <td>0</td>\n    </tr>\n    <tr>\n      <th>Poland</th>\n      <td>0</td>\n      <td>330</td>\n      <td>0</td>\n    </tr>\n    <tr>\n      <th>Portugal</th>\n      <td>0</td>\n      <td>1462</td>\n      <td>0</td>\n    </tr>\n    <tr>\n      <th>RSA</th>\n      <td>0</td>\n      <td>58</td>\n      <td>0</td>\n    </tr>\n    <tr>\n      <th>Saudi Arabia</th>\n      <td>0</td>\n      <td>9</td>\n      <td>0</td>\n    </tr>\n    <tr>\n      <th>Singapore</th>\n      <td>4</td>\n      <td>218</td>\n      <td>0</td>\n    </tr>\n    <tr>\n      <th>Spain</th>\n      <td>0</td>\n      <td>2485</td>\n      <td>0</td>\n    </tr>\n    <tr>\n      <th>Sweden</th>\n      <td>0</td>\n      <td>451</td>\n      <td>0</td>\n    </tr>\n    <tr>\n      <th>Switzerland</th>\n      <td>0</td>\n      <td>1842</td>\n      <td>0</td>\n    </tr>\n    <tr>\n      <th>USA</th>\n      <td>0</td>\n      <td>179</td>\n      <td>0</td>\n    </tr>\n    <tr>\n      <th>United Arab Emirates</th>\n      <td>0</td>\n      <td>68</td>\n      <td>0</td>\n    </tr>\n    <tr>\n      <th>United Kingdom</th>\n      <td>109</td>\n      <td>354229</td>\n      <td>7</td>\n    </tr>\n    <tr>\n      <th>Unspecified</th>\n      <td>0</td>\n      <td>244</td>\n      <td>0</td>\n    </tr>\n  </tbody>\n</table>\n</div>"
     },
     "metadata": {},
     "execution_count": 77
    }
   ],
   "source": [
    "#Q2 / Q3\n",
    "\n",
    "#In the Crosstab below you can see that the most Preferred Clients are located in the United Kingdom, and all the VIPs are located in the same country, so yeah.\n",
    "\n",
    "pd.crosstab(index = orders.Country, columns = orders['Type ID'])"
   ]
  },
  {
   "cell_type": "markdown",
   "metadata": {},
   "source": [
    "Now we'll leave it to you to solve Q2 & Q3, which you can leverage from your solution for Q1:\n",
    "\n",
    "# Q2: How to identify which country has the most VIP Customers?\n",
    "\n",
    "# Q3: How to identify which country has the most VIP+Preferred Customers combined?\n",
    "\n",
    "Provide your solution for Q2 below:"
   ]
  },
  {
   "cell_type": "code",
   "execution_count": null,
   "metadata": {},
   "outputs": [],
   "source": [
    "# your code here"
   ]
  }
 ],
 "metadata": {
  "kernelspec": {
   "display_name": "Python 3.7.6 64-bit ('anaconda3': virtualenv)",
   "language": "python",
   "name": "python37664bitanaconda3virtualenv0697af1ee67a458e9253591065064715"
  },
  "language_info": {
   "codemirror_mode": {
    "name": "ipython",
    "version": 3
   },
   "file_extension": ".py",
   "mimetype": "text/x-python",
   "name": "python",
   "nbconvert_exporter": "python",
   "pygments_lexer": "ipython3",
   "version": "3.7.6-final"
  }
 },
 "nbformat": 4,
 "nbformat_minor": 2
}