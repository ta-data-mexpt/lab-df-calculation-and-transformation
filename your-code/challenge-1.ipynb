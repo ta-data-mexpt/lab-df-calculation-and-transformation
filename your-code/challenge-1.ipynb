{
 "cells": [
  {
   "cell_type": "markdown",
   "metadata": {},
   "source": [
    "# Challenge 1\n",
    "\n",
    "In this challenge you will be working on **pokemons**. You will answer a series of questions in order to practice dataframe calculation, aggregation, and transformation.\n",
    "\n",
    "![Pokemon](pokemon.jpg)\n",
    "\n",
    "Follow the instructions below and enter your code.\n",
    "\n",
    "### Import all required libraries"
   ]
  },
  {
   "cell_type": "code",
   "execution_count": 1,
   "metadata": {},
   "outputs": [],
   "source": [
    "# import libraries\n",
    "import pandas as pd\n",
    "import numpy as np"
   ]
  },
  {
   "cell_type": "markdown",
   "metadata": {},
   "source": [
    "### Import data set\n",
    "\n",
    "Import data set `Pokemon.csv` from the `your-code` directory of this lab. Read the data into a dataframe called `pokemon`.\n",
    "\n",
    "*Data set attributed to [Alberto Barradas](https://www.kaggle.com/abcsds/pokemon/)*"
   ]
  },
  {
   "cell_type": "code",
   "execution_count": 2,
   "metadata": {},
   "outputs": [],
   "source": [
    "# import data set\n",
    "pokemon = pd.read_csv('/Users/alejandropalacios/Desktop/Ironhack/Data Analytics Bootcamp/Data Transformation/Labs/lab-df-calculation-and-transformation/your-code/Pokemon.csv')"
   ]
  },
  {
   "cell_type": "markdown",
   "metadata": {},
   "source": [
    "### Print first 10 rows of `pokemon`"
   ]
  },
  {
   "cell_type": "code",
   "execution_count": 3,
   "metadata": {},
   "outputs": [
    {
     "output_type": "execute_result",
     "data": {
      "text/plain": "   #                       Name Type 1  Type 2  Total  HP  Attack  Defense  \\\n0  1                  Bulbasaur  Grass  Poison    318  45      49       49   \n1  2                    Ivysaur  Grass  Poison    405  60      62       63   \n2  3                   Venusaur  Grass  Poison    525  80      82       83   \n3  3      VenusaurMega Venusaur  Grass  Poison    625  80     100      123   \n4  4                 Charmander   Fire     NaN    309  39      52       43   \n5  5                 Charmeleon   Fire     NaN    405  58      64       58   \n6  6                  Charizard   Fire  Flying    534  78      84       78   \n7  6  CharizardMega Charizard X   Fire  Dragon    634  78     130      111   \n8  6  CharizardMega Charizard Y   Fire  Flying    634  78     104       78   \n9  7                   Squirtle  Water     NaN    314  44      48       65   \n\n   Sp. Atk  Sp. Def  Speed  Generation  Legendary  \n0       65       65     45           1      False  \n1       80       80     60           1      False  \n2      100      100     80           1      False  \n3      122      120     80           1      False  \n4       60       50     65           1      False  \n5       80       65     80           1      False  \n6      109       85    100           1      False  \n7      130       85    100           1      False  \n8      159      115    100           1      False  \n9       50       64     43           1      False  ",
      "text/html": "<div>\n<style scoped>\n    .dataframe tbody tr th:only-of-type {\n        vertical-align: middle;\n    }\n\n    .dataframe tbody tr th {\n        vertical-align: top;\n    }\n\n    .dataframe thead th {\n        text-align: right;\n    }\n</style>\n<table border=\"1\" class=\"dataframe\">\n  <thead>\n    <tr style=\"text-align: right;\">\n      <th></th>\n      <th>#</th>\n      <th>Name</th>\n      <th>Type 1</th>\n      <th>Type 2</th>\n      <th>Total</th>\n      <th>HP</th>\n      <th>Attack</th>\n      <th>Defense</th>\n      <th>Sp. Atk</th>\n      <th>Sp. Def</th>\n      <th>Speed</th>\n      <th>Generation</th>\n      <th>Legendary</th>\n    </tr>\n  </thead>\n  <tbody>\n    <tr>\n      <th>0</th>\n      <td>1</td>\n      <td>Bulbasaur</td>\n      <td>Grass</td>\n      <td>Poison</td>\n      <td>318</td>\n      <td>45</td>\n      <td>49</td>\n      <td>49</td>\n      <td>65</td>\n      <td>65</td>\n      <td>45</td>\n      <td>1</td>\n      <td>False</td>\n    </tr>\n    <tr>\n      <th>1</th>\n      <td>2</td>\n      <td>Ivysaur</td>\n      <td>Grass</td>\n      <td>Poison</td>\n      <td>405</td>\n      <td>60</td>\n      <td>62</td>\n      <td>63</td>\n      <td>80</td>\n      <td>80</td>\n      <td>60</td>\n      <td>1</td>\n      <td>False</td>\n    </tr>\n    <tr>\n      <th>2</th>\n      <td>3</td>\n      <td>Venusaur</td>\n      <td>Grass</td>\n      <td>Poison</td>\n      <td>525</td>\n      <td>80</td>\n      <td>82</td>\n      <td>83</td>\n      <td>100</td>\n      <td>100</td>\n      <td>80</td>\n      <td>1</td>\n      <td>False</td>\n    </tr>\n    <tr>\n      <th>3</th>\n      <td>3</td>\n      <td>VenusaurMega Venusaur</td>\n      <td>Grass</td>\n      <td>Poison</td>\n      <td>625</td>\n      <td>80</td>\n      <td>100</td>\n      <td>123</td>\n      <td>122</td>\n      <td>120</td>\n      <td>80</td>\n      <td>1</td>\n      <td>False</td>\n    </tr>\n    <tr>\n      <th>4</th>\n      <td>4</td>\n      <td>Charmander</td>\n      <td>Fire</td>\n      <td>NaN</td>\n      <td>309</td>\n      <td>39</td>\n      <td>52</td>\n      <td>43</td>\n      <td>60</td>\n      <td>50</td>\n      <td>65</td>\n      <td>1</td>\n      <td>False</td>\n    </tr>\n    <tr>\n      <th>5</th>\n      <td>5</td>\n      <td>Charmeleon</td>\n      <td>Fire</td>\n      <td>NaN</td>\n      <td>405</td>\n      <td>58</td>\n      <td>64</td>\n      <td>58</td>\n      <td>80</td>\n      <td>65</td>\n      <td>80</td>\n      <td>1</td>\n      <td>False</td>\n    </tr>\n    <tr>\n      <th>6</th>\n      <td>6</td>\n      <td>Charizard</td>\n      <td>Fire</td>\n      <td>Flying</td>\n      <td>534</td>\n      <td>78</td>\n      <td>84</td>\n      <td>78</td>\n      <td>109</td>\n      <td>85</td>\n      <td>100</td>\n      <td>1</td>\n      <td>False</td>\n    </tr>\n    <tr>\n      <th>7</th>\n      <td>6</td>\n      <td>CharizardMega Charizard X</td>\n      <td>Fire</td>\n      <td>Dragon</td>\n      <td>634</td>\n      <td>78</td>\n      <td>130</td>\n      <td>111</td>\n      <td>130</td>\n      <td>85</td>\n      <td>100</td>\n      <td>1</td>\n      <td>False</td>\n    </tr>\n    <tr>\n      <th>8</th>\n      <td>6</td>\n      <td>CharizardMega Charizard Y</td>\n      <td>Fire</td>\n      <td>Flying</td>\n      <td>634</td>\n      <td>78</td>\n      <td>104</td>\n      <td>78</td>\n      <td>159</td>\n      <td>115</td>\n      <td>100</td>\n      <td>1</td>\n      <td>False</td>\n    </tr>\n    <tr>\n      <th>9</th>\n      <td>7</td>\n      <td>Squirtle</td>\n      <td>Water</td>\n      <td>NaN</td>\n      <td>314</td>\n      <td>44</td>\n      <td>48</td>\n      <td>65</td>\n      <td>50</td>\n      <td>64</td>\n      <td>43</td>\n      <td>1</td>\n      <td>False</td>\n    </tr>\n  </tbody>\n</table>\n</div>"
     },
     "metadata": {},
     "execution_count": 3
    }
   ],
   "source": [
    "# enter your code here\n",
    "pokemon.head(10)"
   ]
  },
  {
   "cell_type": "markdown",
   "metadata": {},
   "source": [
    "When you look at a data set, you often wonder what each column means. Some open-source data sets provide descriptions of the data set. In many cases, data descriptions are extremely useful for data analysts to perform work efficiently and successfully.\n",
    "\n",
    "For the `Pokemon.csv` data set, fortunately, the owner provided descriptions which you can see [here](https://www.kaggle.com/abcsds/pokemon/home). For your convenience, we are including the descriptions below. Read the descriptions and understand what each column means. This knowledge is helpful in your work with the data.\n",
    "\n",
    "| Column | Description |\n",
    "| --- | --- |\n",
    "| # | ID for each pokemon |\n",
    "| Name | Name of each pokemon |\n",
    "| Type 1 | Each pokemon has a type, this determines weakness/resistance to attacks |\n",
    "| Type 2 | Some pokemon are dual type and have 2 |\n",
    "| Total | A general guide to how strong a pokemon is |\n",
    "| HP | Hit points, or health, defines how much damage a pokemon can withstand before fainting |\n",
    "| Attack | The base modifier for normal attacks (eg. Scratch, Punch) |\n",
    "| Defense | The base damage resistance against normal attacks |\n",
    "| SP Atk | Special attack, the base modifier for special attacks (e.g. fire blast, bubble beam) |\n",
    "| SP Def | The base damage resistance against special attacks |\n",
    "| Speed | Determines which pokemon attacks first each round |\n",
    "| Generation | Number of generation |\n",
    "| Legendary | True if Legendary Pokemon False if not |"
   ]
  },
  {
   "cell_type": "markdown",
   "metadata": {},
   "source": [
    "### Obtain the distinct values across `Type 1` and `Type 2`\n",
    "\n",
    "Exctract all the values in `Type 1` and `Type 2`. Then create an array containing the distinct values across both fields."
   ]
  },
  {
   "cell_type": "code",
   "execution_count": 4,
   "metadata": {},
   "outputs": [
    {
     "output_type": "execute_result",
     "data": {
      "text/plain": "array(['', 'Bug', 'Dark', 'Dragon', 'Electric', 'Fairy', 'Fighting',\n       'Fire', 'Flying', 'Ghost', 'Grass', 'Ground', 'Ice', 'Normal',\n       'Poison', 'Psychic', 'Rock', 'Steel', 'Water'], dtype=object)"
     },
     "metadata": {},
     "execution_count": 4
    }
   ],
   "source": [
    "#Enter your code here\n",
    "Types = pokemon[['Type 1', 'Type 2']].fillna('')\n",
    "Types = Types.astype(str)\n",
    "np.unique(Types)"
   ]
  },
  {
   "cell_type": "markdown",
   "metadata": {},
   "source": [
    "### Cleanup `Name` that contain \"Mega\"\n",
    "\n",
    "If you have checked out the pokemon names carefully enough, you should have found there are junk texts in the pokemon names which contain \"Mega\". We want to clean up the pokemon names. For instance, \"VenusaurMega Venusaur\" should be \"Mega Venusaur\", and \"CharizardMega Charizard X\" should be \"Mega Charizard X\"."
   ]
  },
  {
   "cell_type": "code",
   "execution_count": 5,
   "metadata": {},
   "outputs": [
    {
     "output_type": "execute_result",
     "data": {
      "text/plain": "   #                       Name Type 1  Type 2  Total  HP  Attack  Defense  \\\n0  1                  Bulbasaur  Grass  Poison    318  45      49       49   \n1  2                    Ivysaur  Grass  Poison    405  60      62       63   \n2  3                   Venusaur  Grass  Poison    525  80      82       83   \n3  3      VenusaurMega Venusaur  Grass  Poison    625  80     100      123   \n4  4                 Charmander   Fire     NaN    309  39      52       43   \n5  5                 Charmeleon   Fire     NaN    405  58      64       58   \n6  6                  Charizard   Fire  Flying    534  78      84       78   \n7  6  CharizardMega Charizard X   Fire  Dragon    634  78     130      111   \n8  6  CharizardMega Charizard Y   Fire  Flying    634  78     104       78   \n9  7                   Squirtle  Water     NaN    314  44      48       65   \n\n   Sp. Atk  Sp. Def  Speed  Generation  Legendary  \n0       65       65     45           1      False  \n1       80       80     60           1      False  \n2      100      100     80           1      False  \n3      122      120     80           1      False  \n4       60       50     65           1      False  \n5       80       65     80           1      False  \n6      109       85    100           1      False  \n7      130       85    100           1      False  \n8      159      115    100           1      False  \n9       50       64     43           1      False  ",
      "text/html": "<div>\n<style scoped>\n    .dataframe tbody tr th:only-of-type {\n        vertical-align: middle;\n    }\n\n    .dataframe tbody tr th {\n        vertical-align: top;\n    }\n\n    .dataframe thead th {\n        text-align: right;\n    }\n</style>\n<table border=\"1\" class=\"dataframe\">\n  <thead>\n    <tr style=\"text-align: right;\">\n      <th></th>\n      <th>#</th>\n      <th>Name</th>\n      <th>Type 1</th>\n      <th>Type 2</th>\n      <th>Total</th>\n      <th>HP</th>\n      <th>Attack</th>\n      <th>Defense</th>\n      <th>Sp. Atk</th>\n      <th>Sp. Def</th>\n      <th>Speed</th>\n      <th>Generation</th>\n      <th>Legendary</th>\n    </tr>\n  </thead>\n  <tbody>\n    <tr>\n      <th>0</th>\n      <td>1</td>\n      <td>Bulbasaur</td>\n      <td>Grass</td>\n      <td>Poison</td>\n      <td>318</td>\n      <td>45</td>\n      <td>49</td>\n      <td>49</td>\n      <td>65</td>\n      <td>65</td>\n      <td>45</td>\n      <td>1</td>\n      <td>False</td>\n    </tr>\n    <tr>\n      <th>1</th>\n      <td>2</td>\n      <td>Ivysaur</td>\n      <td>Grass</td>\n      <td>Poison</td>\n      <td>405</td>\n      <td>60</td>\n      <td>62</td>\n      <td>63</td>\n      <td>80</td>\n      <td>80</td>\n      <td>60</td>\n      <td>1</td>\n      <td>False</td>\n    </tr>\n    <tr>\n      <th>2</th>\n      <td>3</td>\n      <td>Venusaur</td>\n      <td>Grass</td>\n      <td>Poison</td>\n      <td>525</td>\n      <td>80</td>\n      <td>82</td>\n      <td>83</td>\n      <td>100</td>\n      <td>100</td>\n      <td>80</td>\n      <td>1</td>\n      <td>False</td>\n    </tr>\n    <tr>\n      <th>3</th>\n      <td>3</td>\n      <td>VenusaurMega Venusaur</td>\n      <td>Grass</td>\n      <td>Poison</td>\n      <td>625</td>\n      <td>80</td>\n      <td>100</td>\n      <td>123</td>\n      <td>122</td>\n      <td>120</td>\n      <td>80</td>\n      <td>1</td>\n      <td>False</td>\n    </tr>\n    <tr>\n      <th>4</th>\n      <td>4</td>\n      <td>Charmander</td>\n      <td>Fire</td>\n      <td>NaN</td>\n      <td>309</td>\n      <td>39</td>\n      <td>52</td>\n      <td>43</td>\n      <td>60</td>\n      <td>50</td>\n      <td>65</td>\n      <td>1</td>\n      <td>False</td>\n    </tr>\n    <tr>\n      <th>5</th>\n      <td>5</td>\n      <td>Charmeleon</td>\n      <td>Fire</td>\n      <td>NaN</td>\n      <td>405</td>\n      <td>58</td>\n      <td>64</td>\n      <td>58</td>\n      <td>80</td>\n      <td>65</td>\n      <td>80</td>\n      <td>1</td>\n      <td>False</td>\n    </tr>\n    <tr>\n      <th>6</th>\n      <td>6</td>\n      <td>Charizard</td>\n      <td>Fire</td>\n      <td>Flying</td>\n      <td>534</td>\n      <td>78</td>\n      <td>84</td>\n      <td>78</td>\n      <td>109</td>\n      <td>85</td>\n      <td>100</td>\n      <td>1</td>\n      <td>False</td>\n    </tr>\n    <tr>\n      <th>7</th>\n      <td>6</td>\n      <td>CharizardMega Charizard X</td>\n      <td>Fire</td>\n      <td>Dragon</td>\n      <td>634</td>\n      <td>78</td>\n      <td>130</td>\n      <td>111</td>\n      <td>130</td>\n      <td>85</td>\n      <td>100</td>\n      <td>1</td>\n      <td>False</td>\n    </tr>\n    <tr>\n      <th>8</th>\n      <td>6</td>\n      <td>CharizardMega Charizard Y</td>\n      <td>Fire</td>\n      <td>Flying</td>\n      <td>634</td>\n      <td>78</td>\n      <td>104</td>\n      <td>78</td>\n      <td>159</td>\n      <td>115</td>\n      <td>100</td>\n      <td>1</td>\n      <td>False</td>\n    </tr>\n    <tr>\n      <th>9</th>\n      <td>7</td>\n      <td>Squirtle</td>\n      <td>Water</td>\n      <td>NaN</td>\n      <td>314</td>\n      <td>44</td>\n      <td>48</td>\n      <td>65</td>\n      <td>50</td>\n      <td>64</td>\n      <td>43</td>\n      <td>1</td>\n      <td>False</td>\n    </tr>\n  </tbody>\n</table>\n</div>"
     },
     "metadata": {},
     "execution_count": 5
    }
   ],
   "source": [
    "# enter your code here\n",
    "pokemon.Name.str.replace('Mega', '')\n",
    "\n",
    "# test transformed data\n",
    "pokemon.head(10)"
   ]
  },
  {
   "cell_type": "markdown",
   "metadata": {},
   "source": [
    "### Create a new column called `A/D Ratio` whose value equals to `Attack` devided by `Defense`\n",
    "\n",
    "For instance, if a pokemon has the Attack score 49 and Defense score 49, the corresponding `A/D Ratio` is 49/49=1."
   ]
  },
  {
   "cell_type": "code",
   "execution_count": 6,
   "metadata": {},
   "outputs": [
    {
     "output_type": "execute_result",
     "data": {
      "text/plain": "   #                   Name Type 1  Type 2  Total  HP  Attack  Defense  \\\n0  1              Bulbasaur  Grass  Poison    318  45      49       49   \n1  2                Ivysaur  Grass  Poison    405  60      62       63   \n2  3               Venusaur  Grass  Poison    525  80      82       83   \n3  3  VenusaurMega Venusaur  Grass  Poison    625  80     100      123   \n4  4             Charmander   Fire     NaN    309  39      52       43   \n\n   Sp. Atk  Sp. Def  Speed  Generation  Legendary  A/D Ratio  \n0       65       65     45           1      False   1.000000  \n1       80       80     60           1      False   0.984127  \n2      100      100     80           1      False   0.987952  \n3      122      120     80           1      False   0.813008  \n4       60       50     65           1      False   1.209302  ",
      "text/html": "<div>\n<style scoped>\n    .dataframe tbody tr th:only-of-type {\n        vertical-align: middle;\n    }\n\n    .dataframe tbody tr th {\n        vertical-align: top;\n    }\n\n    .dataframe thead th {\n        text-align: right;\n    }\n</style>\n<table border=\"1\" class=\"dataframe\">\n  <thead>\n    <tr style=\"text-align: right;\">\n      <th></th>\n      <th>#</th>\n      <th>Name</th>\n      <th>Type 1</th>\n      <th>Type 2</th>\n      <th>Total</th>\n      <th>HP</th>\n      <th>Attack</th>\n      <th>Defense</th>\n      <th>Sp. Atk</th>\n      <th>Sp. Def</th>\n      <th>Speed</th>\n      <th>Generation</th>\n      <th>Legendary</th>\n      <th>A/D Ratio</th>\n    </tr>\n  </thead>\n  <tbody>\n    <tr>\n      <th>0</th>\n      <td>1</td>\n      <td>Bulbasaur</td>\n      <td>Grass</td>\n      <td>Poison</td>\n      <td>318</td>\n      <td>45</td>\n      <td>49</td>\n      <td>49</td>\n      <td>65</td>\n      <td>65</td>\n      <td>45</td>\n      <td>1</td>\n      <td>False</td>\n      <td>1.000000</td>\n    </tr>\n    <tr>\n      <th>1</th>\n      <td>2</td>\n      <td>Ivysaur</td>\n      <td>Grass</td>\n      <td>Poison</td>\n      <td>405</td>\n      <td>60</td>\n      <td>62</td>\n      <td>63</td>\n      <td>80</td>\n      <td>80</td>\n      <td>60</td>\n      <td>1</td>\n      <td>False</td>\n      <td>0.984127</td>\n    </tr>\n    <tr>\n      <th>2</th>\n      <td>3</td>\n      <td>Venusaur</td>\n      <td>Grass</td>\n      <td>Poison</td>\n      <td>525</td>\n      <td>80</td>\n      <td>82</td>\n      <td>83</td>\n      <td>100</td>\n      <td>100</td>\n      <td>80</td>\n      <td>1</td>\n      <td>False</td>\n      <td>0.987952</td>\n    </tr>\n    <tr>\n      <th>3</th>\n      <td>3</td>\n      <td>VenusaurMega Venusaur</td>\n      <td>Grass</td>\n      <td>Poison</td>\n      <td>625</td>\n      <td>80</td>\n      <td>100</td>\n      <td>123</td>\n      <td>122</td>\n      <td>120</td>\n      <td>80</td>\n      <td>1</td>\n      <td>False</td>\n      <td>0.813008</td>\n    </tr>\n    <tr>\n      <th>4</th>\n      <td>4</td>\n      <td>Charmander</td>\n      <td>Fire</td>\n      <td>NaN</td>\n      <td>309</td>\n      <td>39</td>\n      <td>52</td>\n      <td>43</td>\n      <td>60</td>\n      <td>50</td>\n      <td>65</td>\n      <td>1</td>\n      <td>False</td>\n      <td>1.209302</td>\n    </tr>\n  </tbody>\n</table>\n</div>"
     },
     "metadata": {},
     "execution_count": 6
    }
   ],
   "source": [
    "# enter your code here\n",
    "pokemon['A/D Ratio'] = pokemon.Attack / pokemon.Defense\n",
    "pokemon.head()"
   ]
  },
  {
   "cell_type": "markdown",
   "metadata": {},
   "source": [
    "### Identify the pokemon with the highest `A/D Ratio`"
   ]
  },
  {
   "cell_type": "code",
   "execution_count": 7,
   "metadata": {},
   "outputs": [
    {
     "output_type": "execute_result",
     "data": {
      "text/plain": "Name         Zygarde50% Forme\nA/D Ratio                   9\ndtype: object"
     },
     "metadata": {},
     "execution_count": 7
    }
   ],
   "source": [
    "# enter your code here\n",
    "AD_Ratio = pokemon[['Name', 'A/D Ratio']] \n",
    "AD_Ratio.max()"
   ]
  },
  {
   "cell_type": "markdown",
   "metadata": {},
   "source": [
    "### Identify the pokemon with the lowest A/D Ratio"
   ]
  },
  {
   "cell_type": "code",
   "execution_count": 8,
   "metadata": {},
   "outputs": [
    {
     "output_type": "execute_result",
     "data": {
      "text/plain": "Name         Abomasnow\nA/D Ratio    0.0434783\ndtype: object"
     },
     "metadata": {},
     "execution_count": 8
    }
   ],
   "source": [
    "# enter your code here\n",
    "AD_Ratio.min()"
   ]
  },
  {
   "cell_type": "markdown",
   "metadata": {},
   "source": [
    "### Create a new column called `Combo Type` whose value combines `Type 1` and `Type 2`.\n",
    "\n",
    "Rules:\n",
    "\n",
    "* If both `Type 1` and `Type 2` have valid values, the `Combo Type` value should contain both values in the form of `<Type 1> <Type 2>`. For example, if `Type 1` value is `Grass` and `Type 2` value is `Poison`, `Combo Type` will be `Grass-Poison`.\n",
    "\n",
    "* If `Type 1` has valid value but `Type 2` is not, `Combo Type` will be the same as `Type 1`. For example, if `Type 1` is `Fire` whereas `Type 2` is `NaN`, `Combo Type` will be `Fire`."
   ]
  },
  {
   "cell_type": "code",
   "execution_count": 16,
   "metadata": {},
   "outputs": [
    {
     "output_type": "execute_result",
     "data": {
      "text/plain": "0     Grass-Poison\n1     Grass-Poison\n2     Grass-Poison\n3     Grass-Poison\n4             Fire\n5             Fire\n6      Fire-Flying\n7      Fire-Dragon\n8      Fire-Flying\n9            Water\n10           Water\n11           Water\n12           Water\n13             Bug\n14             Bug\n15      Bug-Flying\n16      Bug-Poison\n17      Bug-Poison\n18      Bug-Poison\n19      Bug-Poison\nName: Combo Type, dtype: object"
     },
     "metadata": {},
     "execution_count": 16
    }
   ],
   "source": [
    "pokemon['Combo Type']=np.where(pokemon['Type 2'].isnull(),pokemon['Type 1'],pokemon['Type 1'] + \"-\" + pokemon['Type 2'])\n",
    "pokemon['Combo Type'].head(20)"
   ]
  },
  {
   "cell_type": "markdown",
   "metadata": {},
   "source": [
    "### Identify the pokemons whose `A/D Ratio` are among the top 5 "
   ]
  },
  {
   "cell_type": "code",
   "execution_count": 34,
   "metadata": {},
   "outputs": [
    {
     "output_type": "execute_result",
     "data": {
      "text/plain": "       #                   Name   Type 1  Type 2  Total  HP  Attack  Defense  \\\n429  386     DeoxysAttack Forme  Psychic     NaN    600  50     180       20   \n347  318               Carvanha    Water    Dark    305  45      90       20   \n19    15  BeedrillMega Beedrill      Bug  Poison    495  65     150       40   \n453  408               Cranidos     Rock     NaN    350  67     125       40   \n348  319               Sharpedo    Water    Dark    460  70     120       40   \n\n     Sp. Atk  Sp. Def  Speed  Generation  Legendary  A/D Ratio  Combo Type  \n429      180       20    150           3       True      9.000     Psychic  \n347       65       20     65           3      False      4.500  Water-Dark  \n19        15       80    145           1      False      3.750  Bug-Poison  \n453       30       30     58           4      False      3.125        Rock  \n348       95       40     95           3      False      3.000  Water-Dark  ",
      "text/html": "<div>\n<style scoped>\n    .dataframe tbody tr th:only-of-type {\n        vertical-align: middle;\n    }\n\n    .dataframe tbody tr th {\n        vertical-align: top;\n    }\n\n    .dataframe thead th {\n        text-align: right;\n    }\n</style>\n<table border=\"1\" class=\"dataframe\">\n  <thead>\n    <tr style=\"text-align: right;\">\n      <th></th>\n      <th>#</th>\n      <th>Name</th>\n      <th>Type 1</th>\n      <th>Type 2</th>\n      <th>Total</th>\n      <th>HP</th>\n      <th>Attack</th>\n      <th>Defense</th>\n      <th>Sp. Atk</th>\n      <th>Sp. Def</th>\n      <th>Speed</th>\n      <th>Generation</th>\n      <th>Legendary</th>\n      <th>A/D Ratio</th>\n      <th>Combo Type</th>\n    </tr>\n  </thead>\n  <tbody>\n    <tr>\n      <th>429</th>\n      <td>386</td>\n      <td>DeoxysAttack Forme</td>\n      <td>Psychic</td>\n      <td>NaN</td>\n      <td>600</td>\n      <td>50</td>\n      <td>180</td>\n      <td>20</td>\n      <td>180</td>\n      <td>20</td>\n      <td>150</td>\n      <td>3</td>\n      <td>True</td>\n      <td>9.000</td>\n      <td>Psychic</td>\n    </tr>\n    <tr>\n      <th>347</th>\n      <td>318</td>\n      <td>Carvanha</td>\n      <td>Water</td>\n      <td>Dark</td>\n      <td>305</td>\n      <td>45</td>\n      <td>90</td>\n      <td>20</td>\n      <td>65</td>\n      <td>20</td>\n      <td>65</td>\n      <td>3</td>\n      <td>False</td>\n      <td>4.500</td>\n      <td>Water-Dark</td>\n    </tr>\n    <tr>\n      <th>19</th>\n      <td>15</td>\n      <td>BeedrillMega Beedrill</td>\n      <td>Bug</td>\n      <td>Poison</td>\n      <td>495</td>\n      <td>65</td>\n      <td>150</td>\n      <td>40</td>\n      <td>15</td>\n      <td>80</td>\n      <td>145</td>\n      <td>1</td>\n      <td>False</td>\n      <td>3.750</td>\n      <td>Bug-Poison</td>\n    </tr>\n    <tr>\n      <th>453</th>\n      <td>408</td>\n      <td>Cranidos</td>\n      <td>Rock</td>\n      <td>NaN</td>\n      <td>350</td>\n      <td>67</td>\n      <td>125</td>\n      <td>40</td>\n      <td>30</td>\n      <td>30</td>\n      <td>58</td>\n      <td>4</td>\n      <td>False</td>\n      <td>3.125</td>\n      <td>Rock</td>\n    </tr>\n    <tr>\n      <th>348</th>\n      <td>319</td>\n      <td>Sharpedo</td>\n      <td>Water</td>\n      <td>Dark</td>\n      <td>460</td>\n      <td>70</td>\n      <td>120</td>\n      <td>40</td>\n      <td>95</td>\n      <td>40</td>\n      <td>95</td>\n      <td>3</td>\n      <td>False</td>\n      <td>3.000</td>\n      <td>Water-Dark</td>\n    </tr>\n  </tbody>\n</table>\n</div>"
     },
     "metadata": {},
     "execution_count": 34
    }
   ],
   "source": [
    "# enter your code here\n",
    "AD_Rank = pokemon.sort_values(by = 'A/D Ratio', ascending = False).head()\n",
    "AD_Rank"
   ]
  },
  {
   "cell_type": "markdown",
   "metadata": {},
   "source": [
    "### For the 5 pokemons printed above, aggregate `Combo Type` and use a list to store the unique values.\n",
    "\n",
    "Your end product is a list containing the distinct `Combo Type` values of the 5 pokemons with the highest `A/D Ratio`."
   ]
  },
  {
   "cell_type": "code",
   "execution_count": 35,
   "metadata": {},
   "outputs": [
    {
     "output_type": "execute_result",
     "data": {
      "text/plain": "array(['Bug-Poison', 'Psychic', 'Rock', 'Water-Dark'], dtype=object)"
     },
     "metadata": {},
     "execution_count": 35
    }
   ],
   "source": [
    "# enter your code here\n",
    "np.unique(AD_Rank['Combo Type'])"
   ]
  },
  {
   "cell_type": "markdown",
   "metadata": {},
   "source": [
    "### For each of the `Combo Type` values obtained from the previous question, calculate the mean scores of all numeric fields across all pokemons.\n",
    "\n",
    "Your output should look like below:\n",
    "\n",
    "![Aggregate](aggregated-mean.png)"
   ]
  },
  {
   "cell_type": "code",
   "execution_count": 36,
   "metadata": {},
   "outputs": [
    {
     "output_type": "execute_result",
     "data": {
      "text/plain": "                        #       Total         HP      Attack     Defense  \\\nCombo Type                                                                 \nBug            361.352941  289.705882  53.058824   50.352941   55.411765   \nBug-Electric   595.500000  395.500000  60.000000   62.000000   55.000000   \nBug-Fighting   214.000000  550.000000  80.000000  155.000000   95.000000   \nBug-Fire       636.500000  455.000000  70.000000   72.500000   60.000000   \nBug-Flying     286.285714  419.500000  63.000000   70.142857   61.571429   \n...                   ...         ...        ...         ...         ...   \nWater-Ice      103.000000  511.666667  90.000000   83.333333  113.333333   \nWater-Poison   118.666667  426.666667  61.666667   68.333333   58.333333   \nWater-Psychic  111.800000  481.000000  87.000000   73.000000  104.000000   \nWater-Rock     430.000000  428.750000  70.750000   82.750000  112.750000   \nWater-Steel    395.000000  530.000000  84.000000   86.000000   88.000000   \n\n                  Sp. Atk     Sp. Def      Speed  Generation  Legendary  \\\nCombo Type                                                                \nBug             39.294118   43.647059  47.941176    3.470588        0.0   \nBug-Electric    77.000000   55.000000  86.500000    5.000000        0.0   \nBug-Fighting    40.000000  100.000000  80.000000    2.000000        0.0   \nBug-Fire        92.500000   80.000000  80.000000    5.000000        0.0   \nBug-Flying      72.857143   69.071429  82.857143    2.857143        0.0   \n...                   ...         ...        ...         ...        ...   \nWater-Ice       80.000000   78.333333  66.666667    1.000000        0.0   \nWater-Poison    61.666667   91.666667  85.000000    1.333333        0.0   \nWater-Psychic   94.000000   79.000000  44.000000    1.200000        0.0   \nWater-Rock      61.500000   65.000000  36.000000    3.750000        0.0   \nWater-Steel    111.000000  101.000000  60.000000    4.000000        0.0   \n\n               A/D Ratio  \nCombo Type                \nBug             0.940179  \nBug-Electric    1.111667  \nBug-Fighting    1.637681  \nBug-Fire        1.234266  \nBug-Flying      1.146274  \n...                  ...  \nWater-Ice       0.821759  \nWater-Poison    1.162149  \nWater-Psychic   0.783668  \nWater-Rock      0.727170  \nWater-Steel     0.977273  \n\n[154 rows x 11 columns]",
      "text/html": "<div>\n<style scoped>\n    .dataframe tbody tr th:only-of-type {\n        vertical-align: middle;\n    }\n\n    .dataframe tbody tr th {\n        vertical-align: top;\n    }\n\n    .dataframe thead th {\n        text-align: right;\n    }\n</style>\n<table border=\"1\" class=\"dataframe\">\n  <thead>\n    <tr style=\"text-align: right;\">\n      <th></th>\n      <th>#</th>\n      <th>Total</th>\n      <th>HP</th>\n      <th>Attack</th>\n      <th>Defense</th>\n      <th>Sp. Atk</th>\n      <th>Sp. Def</th>\n      <th>Speed</th>\n      <th>Generation</th>\n      <th>Legendary</th>\n      <th>A/D Ratio</th>\n    </tr>\n    <tr>\n      <th>Combo Type</th>\n      <th></th>\n      <th></th>\n      <th></th>\n      <th></th>\n      <th></th>\n      <th></th>\n      <th></th>\n      <th></th>\n      <th></th>\n      <th></th>\n      <th></th>\n    </tr>\n  </thead>\n  <tbody>\n    <tr>\n      <th>Bug</th>\n      <td>361.352941</td>\n      <td>289.705882</td>\n      <td>53.058824</td>\n      <td>50.352941</td>\n      <td>55.411765</td>\n      <td>39.294118</td>\n      <td>43.647059</td>\n      <td>47.941176</td>\n      <td>3.470588</td>\n      <td>0.0</td>\n      <td>0.940179</td>\n    </tr>\n    <tr>\n      <th>Bug-Electric</th>\n      <td>595.500000</td>\n      <td>395.500000</td>\n      <td>60.000000</td>\n      <td>62.000000</td>\n      <td>55.000000</td>\n      <td>77.000000</td>\n      <td>55.000000</td>\n      <td>86.500000</td>\n      <td>5.000000</td>\n      <td>0.0</td>\n      <td>1.111667</td>\n    </tr>\n    <tr>\n      <th>Bug-Fighting</th>\n      <td>214.000000</td>\n      <td>550.000000</td>\n      <td>80.000000</td>\n      <td>155.000000</td>\n      <td>95.000000</td>\n      <td>40.000000</td>\n      <td>100.000000</td>\n      <td>80.000000</td>\n      <td>2.000000</td>\n      <td>0.0</td>\n      <td>1.637681</td>\n    </tr>\n    <tr>\n      <th>Bug-Fire</th>\n      <td>636.500000</td>\n      <td>455.000000</td>\n      <td>70.000000</td>\n      <td>72.500000</td>\n      <td>60.000000</td>\n      <td>92.500000</td>\n      <td>80.000000</td>\n      <td>80.000000</td>\n      <td>5.000000</td>\n      <td>0.0</td>\n      <td>1.234266</td>\n    </tr>\n    <tr>\n      <th>Bug-Flying</th>\n      <td>286.285714</td>\n      <td>419.500000</td>\n      <td>63.000000</td>\n      <td>70.142857</td>\n      <td>61.571429</td>\n      <td>72.857143</td>\n      <td>69.071429</td>\n      <td>82.857143</td>\n      <td>2.857143</td>\n      <td>0.0</td>\n      <td>1.146274</td>\n    </tr>\n    <tr>\n      <th>...</th>\n      <td>...</td>\n      <td>...</td>\n      <td>...</td>\n      <td>...</td>\n      <td>...</td>\n      <td>...</td>\n      <td>...</td>\n      <td>...</td>\n      <td>...</td>\n      <td>...</td>\n      <td>...</td>\n    </tr>\n    <tr>\n      <th>Water-Ice</th>\n      <td>103.000000</td>\n      <td>511.666667</td>\n      <td>90.000000</td>\n      <td>83.333333</td>\n      <td>113.333333</td>\n      <td>80.000000</td>\n      <td>78.333333</td>\n      <td>66.666667</td>\n      <td>1.000000</td>\n      <td>0.0</td>\n      <td>0.821759</td>\n    </tr>\n    <tr>\n      <th>Water-Poison</th>\n      <td>118.666667</td>\n      <td>426.666667</td>\n      <td>61.666667</td>\n      <td>68.333333</td>\n      <td>58.333333</td>\n      <td>61.666667</td>\n      <td>91.666667</td>\n      <td>85.000000</td>\n      <td>1.333333</td>\n      <td>0.0</td>\n      <td>1.162149</td>\n    </tr>\n    <tr>\n      <th>Water-Psychic</th>\n      <td>111.800000</td>\n      <td>481.000000</td>\n      <td>87.000000</td>\n      <td>73.000000</td>\n      <td>104.000000</td>\n      <td>94.000000</td>\n      <td>79.000000</td>\n      <td>44.000000</td>\n      <td>1.200000</td>\n      <td>0.0</td>\n      <td>0.783668</td>\n    </tr>\n    <tr>\n      <th>Water-Rock</th>\n      <td>430.000000</td>\n      <td>428.750000</td>\n      <td>70.750000</td>\n      <td>82.750000</td>\n      <td>112.750000</td>\n      <td>61.500000</td>\n      <td>65.000000</td>\n      <td>36.000000</td>\n      <td>3.750000</td>\n      <td>0.0</td>\n      <td>0.727170</td>\n    </tr>\n    <tr>\n      <th>Water-Steel</th>\n      <td>395.000000</td>\n      <td>530.000000</td>\n      <td>84.000000</td>\n      <td>86.000000</td>\n      <td>88.000000</td>\n      <td>111.000000</td>\n      <td>101.000000</td>\n      <td>60.000000</td>\n      <td>4.000000</td>\n      <td>0.0</td>\n      <td>0.977273</td>\n    </tr>\n  </tbody>\n</table>\n<p>154 rows × 11 columns</p>\n</div>"
     },
     "metadata": {},
     "execution_count": 36
    }
   ],
   "source": [
    "# enter your code here\n",
    "pokemon.groupby(['Combo Type'])['#', 'Total', 'HP', 'Attack', 'Defense', 'Sp. Atk', 'Sp. Def', 'Speed', 'Generation', 'Legendary', 'A/D Ratio'].mean()"
   ]
  },
  {
   "cell_type": "code",
   "execution_count": null,
   "metadata": {},
   "outputs": [],
   "source": []
  }
 ],
 "metadata": {
  "kernelspec": {
   "display_name": "Python 3.7.6 64-bit ('anaconda3': virtualenv)",
   "language": "python",
   "name": "python37664bitanaconda3virtualenv0697af1ee67a458e9253591065064715"
  },
  "language_info": {
   "codemirror_mode": {
    "name": "ipython",
    "version": 3
   },
   "file_extension": ".py",
   "mimetype": "text/x-python",
   "name": "python",
   "nbconvert_exporter": "python",
   "pygments_lexer": "ipython3",
   "version": "3.7.6-final"
  }
 },
 "nbformat": 4,
 "nbformat_minor": 2
}